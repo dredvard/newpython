{
 "cells": [
  {
   "cell_type": "code",
   "execution_count": 41,
   "metadata": {},
   "outputs": [
    {
     "name": "stderr",
     "output_type": "stream",
     "text": [
      "C:\\Users\\ekambulow\\AppData\\Local\\Continuum\\anaconda3\\lib\\site-packages\\urllib3\\connectionpool.py:857: InsecureRequestWarning: Unverified HTTPS request is being made. Adding certificate verification is strongly advised. See: https://urllib3.readthedocs.io/en/latest/advanced-usage.html#ssl-warnings\n",
      "  InsecureRequestWarning)\n"
     ]
    }
   ],
   "source": [
    "from bs4 import BeautifulSoup\n",
    "import urllib3\n",
    "\n",
    "http = urllib3.PoolManager()\n",
    "\n",
    "url = 'https://edisonreport.com/category/news/page/9/'\n",
    "response = http.request('GET', url)\n",
    "soup = BeautifulSoup(response.data,\"lxml\")"
   ]
  },
  {
   "cell_type": "code",
   "execution_count": 65,
   "metadata": {},
   "outputs": [],
   "source": [
    "from bs4 import BeautifulSoup\n",
    "import urllib3\n",
    "\n",
    "#print (soup.prettify())\n",
    "\n",
    "url = 'https://edisonreport.com/category/news/page/'\n",
    "urllib3.disable_warnings()\n",
    "\n",
    "file = open(\"testfile.txt\",\"w\") \n",
    "\n",
    "for i in range(1,20):\n",
    "    urlnum = 'https://edisonreport.com/category/news/page/'+str(i)+'/'\n",
    "    response = http.request('GET', urlnum)\n",
    "    soup = BeautifulSoup(response.data,\"lxml\")\n",
    "    art=soup.find_all('article')\n",
    "    for artc in art:\n",
    "        #text=BeautifulSoup(artc)\n",
    "        h2=artc.find('h2')\n",
    "        span=artc.find('span')\n",
    "        p=artc.find('p')\n",
    "        file.write(\" \\n\")\n",
    "        file.write(h2.text+\" --- \"+span.text+\"\\n\")\n",
    "        file.write(\"   \"+p.text+\"\\n\")\n",
    "        #print(\" \")\n",
    "        #print(h2.text,\" --- \",span.text)\n",
    "        #print(\"   \",p.text)\n",
    "        \n",
    "file.close()        "
   ]
  },
  {
   "cell_type": "code",
   "execution_count": null,
   "metadata": {},
   "outputs": [],
   "source": []
  },
  {
   "cell_type": "code",
   "execution_count": null,
   "metadata": {},
   "outputs": [],
   "source": []
  },
  {
   "cell_type": "code",
   "execution_count": null,
   "metadata": {},
   "outputs": [],
   "source": []
  }
 ],
 "metadata": {
  "kernelspec": {
   "display_name": "Python 3",
   "language": "python",
   "name": "python3"
  },
  "language_info": {
   "codemirror_mode": {
    "name": "ipython",
    "version": 3
   },
   "file_extension": ".py",
   "mimetype": "text/x-python",
   "name": "python",
   "nbconvert_exporter": "python",
   "pygments_lexer": "ipython3",
   "version": "3.6.4"
  },
  "toc": {
   "base_numbering": 1,
   "nav_menu": {},
   "number_sections": true,
   "sideBar": true,
   "skip_h1_title": false,
   "title_cell": "Table of Contents",
   "title_sidebar": "Contents",
   "toc_cell": false,
   "toc_position": {},
   "toc_section_display": true,
   "toc_window_display": false
  },
  "varInspector": {
   "cols": {
    "lenName": 16,
    "lenType": 16,
    "lenVar": 40
   },
   "kernels_config": {
    "python": {
     "delete_cmd_postfix": "",
     "delete_cmd_prefix": "del ",
     "library": "var_list.py",
     "varRefreshCmd": "print(var_dic_list())"
    },
    "r": {
     "delete_cmd_postfix": ") ",
     "delete_cmd_prefix": "rm(",
     "library": "var_list.r",
     "varRefreshCmd": "cat(var_dic_list()) "
    }
   },
   "types_to_exclude": [
    "module",
    "function",
    "builtin_function_or_method",
    "instance",
    "_Feature"
   ],
   "window_display": false
  }
 },
 "nbformat": 4,
 "nbformat_minor": 2
}
