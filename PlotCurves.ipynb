{
 "cells": [
  {
   "cell_type": "markdown",
   "metadata": {},
   "source": [
    "# D"
   ]
  },
  {
   "cell_type": "markdown",
   "metadata": {},
   "source": [
    "# Load Data"
   ]
  },
  {
   "cell_type": "code",
   "execution_count": 1,
   "metadata": {},
   "outputs": [
    {
     "data": {
      "text/html": [
       "<div>\n",
       "<style scoped>\n",
       "    .dataframe tbody tr th:only-of-type {\n",
       "        vertical-align: middle;\n",
       "    }\n",
       "\n",
       "    .dataframe tbody tr th {\n",
       "        vertical-align: top;\n",
       "    }\n",
       "\n",
       "    .dataframe thead th {\n",
       "        text-align: right;\n",
       "    }\n",
       "</style>\n",
       "<table border=\"1\" class=\"dataframe\">\n",
       "  <thead>\n",
       "    <tr style=\"text-align: right;\">\n",
       "      <th></th>\n",
       "      <th>SleeveID</th>\n",
       "      <th>Pos ID</th>\n",
       "      <th>Location</th>\n",
       "    </tr>\n",
       "  </thead>\n",
       "  <tbody>\n",
       "    <tr>\n",
       "      <th>0</th>\n",
       "      <td>3</td>\n",
       "      <td>A</td>\n",
       "      <td>360.0</td>\n",
       "    </tr>\n",
       "    <tr>\n",
       "      <th>1</th>\n",
       "      <td>4</td>\n",
       "      <td>A</td>\n",
       "      <td>360.0</td>\n",
       "    </tr>\n",
       "    <tr>\n",
       "      <th>2</th>\n",
       "      <td>5</td>\n",
       "      <td>A</td>\n",
       "      <td>538.0</td>\n",
       "    </tr>\n",
       "    <tr>\n",
       "      <th>3</th>\n",
       "      <td>6</td>\n",
       "      <td>A</td>\n",
       "      <td>589.0</td>\n",
       "    </tr>\n",
       "    <tr>\n",
       "      <th>4</th>\n",
       "      <td>7</td>\n",
       "      <td>A</td>\n",
       "      <td>264.0</td>\n",
       "    </tr>\n",
       "  </tbody>\n",
       "</table>\n",
       "</div>"
      ],
      "text/plain": [
       "   SleeveID Pos ID  Location\n",
       "0         3      A     360.0\n",
       "1         4      A     360.0\n",
       "2         5      A     538.0\n",
       "3         6      A     589.0\n",
       "4         7      A     264.0"
      ]
     },
     "execution_count": 1,
     "metadata": {},
     "output_type": "execute_result"
    }
   ],
   "source": [
    "# Sleeve Stress Analysis\n",
    "import pandas as pd\n",
    "import seaborn as sns\n",
    "import matplotlib.pyplot as plt\n",
    "import numpy as np\n",
    "import re\n",
    "from pathlib import Path\n",
    "\n",
    "file_name = 'Testinfo.xlsx'\n",
    "\n",
    "#Save Sensor ID infomration\n",
    "xl_file = pd.ExcelFile(file_name)\n",
    "tabnames=xl_file.sheet_names\n",
    "\n",
    "data=xl_file\n",
    "\n",
    "sleeveid=xl_file.parse(sheet_name=data.sheet_names[0], skiprows=0)\n",
    "sheet=sleeveid\n",
    "\n",
    "sleeveid.set_index(keys='SleeveID')\n",
    "slmelt=sleeveid.melt('SleeveID', var_name=\"Pos ID\",value_name=\"Location\").dropna()\n",
    "slmelt.head()\n",
    "\n",
    "# library & dataset\n",
    "import seaborn as sns\n",
    "df=slmelt\n",
    "     \n",
    "# --- Use the 'palette' argument of seaborn\n",
    "sns.lmplot( y=\"Location\", x=\"SleeveID\", data=df, fit_reg=False, hue='Pos ID', legend=False, palette=\"Set1\")\n",
    "plt.legend(loc='lower right',frameon=True)\n",
    "plt.ylim(ymax=2700) \n",
    "# --- Use a handmade palette\n",
    "#flatui = [\"#9b59b6\", \"#3498db\", \"orange\"]\n",
    "#sns.set_palette(flatui)\n",
    "#sns.lmplot( x=\"sepal_length\", y=\"sepal_width\", data=df, fit_reg=False, hue='species', legend=False)\n",
    "\n",
    "df.head()"
   ]
  },
  {
   "cell_type": "markdown",
   "metadata": {},
   "source": [
    "# Load Runinfo"
   ]
  },
  {
   "cell_type": "code",
   "execution_count": 2,
   "metadata": {},
   "outputs": [
    {
     "data": {
      "text/html": [
       "<div>\n",
       "<style scoped>\n",
       "    .dataframe tbody tr th:only-of-type {\n",
       "        vertical-align: middle;\n",
       "    }\n",
       "\n",
       "    .dataframe tbody tr th {\n",
       "        vertical-align: top;\n",
       "    }\n",
       "\n",
       "    .dataframe thead th {\n",
       "        text-align: right;\n",
       "    }\n",
       "</style>\n",
       "<table border=\"1\" class=\"dataframe\">\n",
       "  <thead>\n",
       "    <tr style=\"text-align: right;\">\n",
       "      <th></th>\n",
       "      <th></th>\n",
       "      <th>Location</th>\n",
       "    </tr>\n",
       "    <tr>\n",
       "      <th>Run</th>\n",
       "      <th>SleeveID</th>\n",
       "      <th></th>\n",
       "    </tr>\n",
       "  </thead>\n",
       "  <tbody>\n",
       "    <tr>\n",
       "      <th rowspan=\"5\" valign=\"top\">2</th>\n",
       "      <th>5</th>\n",
       "      <td>R1</td>\n",
       "    </tr>\n",
       "    <tr>\n",
       "      <th>6</th>\n",
       "      <td>R2</td>\n",
       "    </tr>\n",
       "    <tr>\n",
       "      <th>7</th>\n",
       "      <td>R3</td>\n",
       "    </tr>\n",
       "    <tr>\n",
       "      <th>8</th>\n",
       "      <td>R4</td>\n",
       "    </tr>\n",
       "    <tr>\n",
       "      <th>9</th>\n",
       "      <td>R5</td>\n",
       "    </tr>\n",
       "    <tr>\n",
       "      <th rowspan=\"3\" valign=\"top\">3</th>\n",
       "      <th>5</th>\n",
       "      <td>R6</td>\n",
       "    </tr>\n",
       "    <tr>\n",
       "      <th>6</th>\n",
       "      <td>R7</td>\n",
       "    </tr>\n",
       "    <tr>\n",
       "      <th>7</th>\n",
       "      <td>R8</td>\n",
       "    </tr>\n",
       "  </tbody>\n",
       "</table>\n",
       "</div>"
      ],
      "text/plain": [
       "             Location\n",
       "Run SleeveID         \n",
       "2   5              R1\n",
       "    6              R2\n",
       "    7              R3\n",
       "    8              R4\n",
       "    9              R5\n",
       "3   5              R6\n",
       "    6              R7\n",
       "    7              R8"
      ]
     },
     "execution_count": 2,
     "metadata": {},
     "output_type": "execute_result"
    }
   ],
   "source": [
    "runinfo=xl_file.parse(sheet_name=data.sheet_names[1], skiprows=0)\n",
    "sheet=runinfo\n",
    "\n",
    "runinfo.set_index(['Run','SleeveID'],inplace=True)\n",
    "#slmelt=runinfo.melt('SleeveID', var_name=\"Pos ID\",value_name=\"Location\").dropna()\n",
    "#slmelt.head()\n",
    "\n",
    "runinfo.head(8)"
   ]
  },
  {
   "cell_type": "markdown",
   "metadata": {},
   "source": [
    "# Create Data"
   ]
  },
  {
   "cell_type": "code",
   "execution_count": 190,
   "metadata": {},
   "outputs": [
    {
     "data": {
      "text/html": [
       "<div>\n",
       "<style scoped>\n",
       "    .dataframe tbody tr th:only-of-type {\n",
       "        vertical-align: middle;\n",
       "    }\n",
       "\n",
       "    .dataframe tbody tr th {\n",
       "        vertical-align: top;\n",
       "    }\n",
       "\n",
       "    .dataframe thead tr th {\n",
       "        text-align: left;\n",
       "    }\n",
       "\n",
       "    .dataframe thead tr:last-of-type th {\n",
       "        text-align: right;\n",
       "    }\n",
       "</style>\n",
       "<table border=\"1\" class=\"dataframe\">\n",
       "  <thead>\n",
       "    <tr>\n",
       "      <th>ID</th>\n",
       "      <th colspan=\"4\" halign=\"left\">0</th>\n",
       "      <th colspan=\"4\" halign=\"left\">1</th>\n",
       "    </tr>\n",
       "    <tr>\n",
       "      <th>Location</th>\n",
       "      <th>A</th>\n",
       "      <th>B</th>\n",
       "      <th>A</th>\n",
       "      <th>B</th>\n",
       "      <th>A</th>\n",
       "      <th>B</th>\n",
       "      <th>A</th>\n",
       "      <th>B</th>\n",
       "    </tr>\n",
       "    <tr>\n",
       "      <th>Direction</th>\n",
       "      <th>x</th>\n",
       "      <th>x</th>\n",
       "      <th>y</th>\n",
       "      <th>y</th>\n",
       "      <th>x</th>\n",
       "      <th>x</th>\n",
       "      <th>y</th>\n",
       "      <th>y</th>\n",
       "    </tr>\n",
       "    <tr>\n",
       "      <th>t</th>\n",
       "      <th></th>\n",
       "      <th></th>\n",
       "      <th></th>\n",
       "      <th></th>\n",
       "      <th></th>\n",
       "      <th></th>\n",
       "      <th></th>\n",
       "      <th></th>\n",
       "    </tr>\n",
       "  </thead>\n",
       "  <tbody>\n",
       "    <tr>\n",
       "      <th>1</th>\n",
       "      <td>-0.357243</td>\n",
       "      <td>-1.448660</td>\n",
       "      <td>0.626862</td>\n",
       "      <td>1.263340</td>\n",
       "      <td>-1.181431</td>\n",
       "      <td>0.830443</td>\n",
       "      <td>0.391143</td>\n",
       "      <td>1.714780</td>\n",
       "    </tr>\n",
       "    <tr>\n",
       "      <th>2</th>\n",
       "      <td>0.001339</td>\n",
       "      <td>-1.554643</td>\n",
       "      <td>2.688443</td>\n",
       "      <td>2.546066</td>\n",
       "      <td>1.528178</td>\n",
       "      <td>-1.789914</td>\n",
       "      <td>2.226304</td>\n",
       "      <td>2.576756</td>\n",
       "    </tr>\n",
       "    <tr>\n",
       "      <th>3</th>\n",
       "      <td>1.102636</td>\n",
       "      <td>0.368306</td>\n",
       "      <td>3.183072</td>\n",
       "      <td>2.411255</td>\n",
       "      <td>0.216261</td>\n",
       "      <td>-0.499207</td>\n",
       "      <td>3.376475</td>\n",
       "      <td>3.578132</td>\n",
       "    </tr>\n",
       "    <tr>\n",
       "      <th>4</th>\n",
       "      <td>-1.686344</td>\n",
       "      <td>-0.961375</td>\n",
       "      <td>3.312330</td>\n",
       "      <td>4.863844</td>\n",
       "      <td>-0.832781</td>\n",
       "      <td>-0.407241</td>\n",
       "      <td>3.290755</td>\n",
       "      <td>5.025665</td>\n",
       "    </tr>\n",
       "    <tr>\n",
       "      <th>5</th>\n",
       "      <td>-0.045489</td>\n",
       "      <td>1.694324</td>\n",
       "      <td>5.635525</td>\n",
       "      <td>2.672361</td>\n",
       "      <td>2.472686</td>\n",
       "      <td>-1.699761</td>\n",
       "      <td>4.204246</td>\n",
       "      <td>6.885869</td>\n",
       "    </tr>\n",
       "  </tbody>\n",
       "</table>\n",
       "</div>"
      ],
      "text/plain": [
       "ID                0                                       1            \\\n",
       "Location          A         B         A         B         A         B   \n",
       "Direction         x         x         y         y         x         x   \n",
       "t                                                                       \n",
       "1         -0.357243 -1.448660  0.626862  1.263340 -1.181431  0.830443   \n",
       "2          0.001339 -1.554643  2.688443  2.546066  1.528178 -1.789914   \n",
       "3          1.102636  0.368306  3.183072  2.411255  0.216261 -0.499207   \n",
       "4         -1.686344 -0.961375  3.312330  4.863844 -0.832781 -0.407241   \n",
       "5         -0.045489  1.694324  5.635525  2.672361  2.472686 -1.699761   \n",
       "\n",
       "ID                             \n",
       "Location          A         B  \n",
       "Direction         y         y  \n",
       "t                              \n",
       "1          0.391143  1.714780  \n",
       "2          2.226304  2.576756  \n",
       "3          3.376475  3.578132  \n",
       "4          3.290755  5.025665  \n",
       "5          4.204246  6.885869  "
      ]
     },
     "execution_count": 190,
     "metadata": {},
     "output_type": "execute_result"
    }
   ],
   "source": [
    "#df=pd.DataFrame({'t': range(1,11), 'y1': np.random.randn(10), 'y2': np.random.randn(10)+range(1,11), 'y3': np.random.randn(10)+range(11,21), 'y4': np.random.randn(10)+range(6,16), 'y5': np.random.randn(10)+range(4,14)+(0,0,0,0,0,0,0,-3,-8,-6), 'y6': np.random.randn(10)+range(2,12), 'y7': np.random.randn(10)+range(5,15), 'y8': np.random.randn(10)+range(4,14) })\n",
    "df=pd.DataFrame({'t': range(1,11)})\n",
    "# create list of all of all sleeveID in Run 2\n",
    "\n",
    "#runinfo.loc[runinfo['Run']=='2'].head()\n",
    "qry=runinfo.query('Run ==2')\n",
    "#for tpl in qry.index.values\n",
    "#    slvid=tpl[1]\n",
    "#    name=sl\n",
    "#    df.\n",
    "df.set_index(['t'],inplace=True)\n",
    "\n",
    "for num in range(2):\n",
    "    labely = (str(num),'A','y')\n",
    "    labelx = (str(num),'A','x')\n",
    "    labelbx = (str(num),'B','x')\n",
    "    labelby = (str(num),'B','y')\n",
    "    df[labelx]= np.random.randn(10)\n",
    "    df[labelbx]= np.random.randn(10)\n",
    "    df[labely]= np.random.randn(10)+range(1,11)\n",
    "    df[labelby]= np.random.randn(10)+range(1,11)\n",
    "#    if num==1:\n",
    "#        labelcx = (str(num),'C','x')\n",
    "#        df[labelcx]= np.random.randn(10)\n",
    "\n",
    "df.columns = pd.MultiIndex.from_tuples(df.columns, names=['ID','Location','Direction']) \n",
    "df.head()"
   ]
  },
  {
   "cell_type": "code",
   "execution_count": 156,
   "metadata": {},
   "outputs": [
    {
     "data": {
      "text/html": [
       "<div>\n",
       "<style scoped>\n",
       "    .dataframe tbody tr th:only-of-type {\n",
       "        vertical-align: middle;\n",
       "    }\n",
       "\n",
       "    .dataframe tbody tr th {\n",
       "        vertical-align: top;\n",
       "    }\n",
       "\n",
       "    .dataframe thead tr th {\n",
       "        text-align: left;\n",
       "    }\n",
       "\n",
       "    .dataframe thead tr:last-of-type th {\n",
       "        text-align: right;\n",
       "    }\n",
       "</style>\n",
       "<table border=\"1\" class=\"dataframe\">\n",
       "  <thead>\n",
       "    <tr>\n",
       "      <th>ID</th>\n",
       "      <th colspan=\"4\" halign=\"left\">0</th>\n",
       "      <th colspan=\"4\" halign=\"left\">1</th>\n",
       "    </tr>\n",
       "    <tr>\n",
       "      <th>Location</th>\n",
       "      <th colspan=\"2\" halign=\"left\">A</th>\n",
       "      <th colspan=\"2\" halign=\"left\">B</th>\n",
       "      <th colspan=\"2\" halign=\"left\">A</th>\n",
       "      <th colspan=\"2\" halign=\"left\">B</th>\n",
       "    </tr>\n",
       "    <tr>\n",
       "      <th>Direction</th>\n",
       "      <th>x</th>\n",
       "      <th>y</th>\n",
       "      <th>x</th>\n",
       "      <th>y</th>\n",
       "      <th>x</th>\n",
       "      <th>y</th>\n",
       "      <th>x</th>\n",
       "      <th>y</th>\n",
       "    </tr>\n",
       "    <tr>\n",
       "      <th>t</th>\n",
       "      <th></th>\n",
       "      <th></th>\n",
       "      <th></th>\n",
       "      <th></th>\n",
       "      <th></th>\n",
       "      <th></th>\n",
       "      <th></th>\n",
       "      <th></th>\n",
       "    </tr>\n",
       "  </thead>\n",
       "  <tbody>\n",
       "    <tr>\n",
       "      <th>1</th>\n",
       "      <td>-1.227306</td>\n",
       "      <td>-0.352367</td>\n",
       "      <td>-1.074712</td>\n",
       "      <td>0.950599</td>\n",
       "      <td>2.049091</td>\n",
       "      <td>-1.137958</td>\n",
       "      <td>-1.262021</td>\n",
       "      <td>-0.035763</td>\n",
       "    </tr>\n",
       "    <tr>\n",
       "      <th>2</th>\n",
       "      <td>0.435749</td>\n",
       "      <td>1.875672</td>\n",
       "      <td>-0.542973</td>\n",
       "      <td>2.173065</td>\n",
       "      <td>1.189910</td>\n",
       "      <td>1.617822</td>\n",
       "      <td>0.389261</td>\n",
       "      <td>4.453446</td>\n",
       "    </tr>\n",
       "    <tr>\n",
       "      <th>3</th>\n",
       "      <td>1.459270</td>\n",
       "      <td>1.577529</td>\n",
       "      <td>1.266987</td>\n",
       "      <td>2.342970</td>\n",
       "      <td>0.302045</td>\n",
       "      <td>0.965573</td>\n",
       "      <td>0.912475</td>\n",
       "      <td>3.470259</td>\n",
       "    </tr>\n",
       "    <tr>\n",
       "      <th>4</th>\n",
       "      <td>-0.973236</td>\n",
       "      <td>3.109770</td>\n",
       "      <td>0.373820</td>\n",
       "      <td>3.185566</td>\n",
       "      <td>-1.070420</td>\n",
       "      <td>3.030276</td>\n",
       "      <td>-0.954048</td>\n",
       "      <td>3.519959</td>\n",
       "    </tr>\n",
       "    <tr>\n",
       "      <th>5</th>\n",
       "      <td>-0.299307</td>\n",
       "      <td>5.266175</td>\n",
       "      <td>0.233385</td>\n",
       "      <td>4.766137</td>\n",
       "      <td>-0.453633</td>\n",
       "      <td>3.745953</td>\n",
       "      <td>-0.771288</td>\n",
       "      <td>4.310860</td>\n",
       "    </tr>\n",
       "  </tbody>\n",
       "</table>\n",
       "</div>"
      ],
      "text/plain": [
       "ID                0                                       1            \\\n",
       "Location          A                   B                   A             \n",
       "Direction         x         y         x         y         x         y   \n",
       "t                                                                       \n",
       "1         -1.227306 -0.352367 -1.074712  0.950599  2.049091 -1.137958   \n",
       "2          0.435749  1.875672 -0.542973  2.173065  1.189910  1.617822   \n",
       "3          1.459270  1.577529  1.266987  2.342970  0.302045  0.965573   \n",
       "4         -0.973236  3.109770  0.373820  3.185566 -1.070420  3.030276   \n",
       "5         -0.299307  5.266175  0.233385  4.766137 -0.453633  3.745953   \n",
       "\n",
       "ID                             \n",
       "Location          B            \n",
       "Direction         x         y  \n",
       "t                              \n",
       "1         -1.262021 -0.035763  \n",
       "2          0.389261  4.453446  \n",
       "3          0.912475  3.470259  \n",
       "4         -0.954048  3.519959  \n",
       "5         -0.771288  4.310860  "
      ]
     },
     "execution_count": 156,
     "metadata": {},
     "output_type": "execute_result"
    }
   ],
   "source": [
    "#df[('0','A','tot')]=(df[('0','A','y')]**2+df[('0','A','x')]**2)**.5\n",
    "df.sort_index(level='ID',axis=1,inplace=True)\n",
    "df.head()"
   ]
  },
  {
   "cell_type": "code",
   "execution_count": 189,
   "metadata": {},
   "outputs": [
    {
     "data": {
      "text/html": [
       "<div>\n",
       "<style scoped>\n",
       "    .dataframe tbody tr th:only-of-type {\n",
       "        vertical-align: middle;\n",
       "    }\n",
       "\n",
       "    .dataframe tbody tr th {\n",
       "        vertical-align: top;\n",
       "    }\n",
       "\n",
       "    .dataframe thead th {\n",
       "        text-align: right;\n",
       "    }\n",
       "</style>\n",
       "<table border=\"1\" class=\"dataframe\">\n",
       "  <thead>\n",
       "    <tr style=\"text-align: right;\">\n",
       "      <th></th>\n",
       "      <th>t</th>\n",
       "      <th>y1</th>\n",
       "      <th>y2</th>\n",
       "      <th>y3</th>\n",
       "      <th>y4</th>\n",
       "      <th>y5</th>\n",
       "      <th>y6</th>\n",
       "      <th>y7</th>\n",
       "      <th>y8</th>\n",
       "    </tr>\n",
       "  </thead>\n",
       "  <tbody>\n",
       "    <tr>\n",
       "      <th>0</th>\n",
       "      <td>1</td>\n",
       "      <td>0.664962</td>\n",
       "      <td>0.473568</td>\n",
       "      <td>11.135602</td>\n",
       "      <td>7.063756</td>\n",
       "      <td>2.729407</td>\n",
       "      <td>2.942622</td>\n",
       "      <td>4.651326</td>\n",
       "      <td>4.702956</td>\n",
       "    </tr>\n",
       "    <tr>\n",
       "      <th>1</th>\n",
       "      <td>2</td>\n",
       "      <td>-0.348460</td>\n",
       "      <td>1.125050</td>\n",
       "      <td>9.872597</td>\n",
       "      <td>5.903379</td>\n",
       "      <td>4.126279</td>\n",
       "      <td>3.589777</td>\n",
       "      <td>7.307345</td>\n",
       "      <td>5.012936</td>\n",
       "    </tr>\n",
       "    <tr>\n",
       "      <th>2</th>\n",
       "      <td>3</td>\n",
       "      <td>-0.693993</td>\n",
       "      <td>2.596259</td>\n",
       "      <td>15.190237</td>\n",
       "      <td>7.711805</td>\n",
       "      <td>6.604484</td>\n",
       "      <td>2.822751</td>\n",
       "      <td>6.932511</td>\n",
       "      <td>5.128879</td>\n",
       "    </tr>\n",
       "    <tr>\n",
       "      <th>3</th>\n",
       "      <td>4</td>\n",
       "      <td>0.168915</td>\n",
       "      <td>4.933867</td>\n",
       "      <td>15.821387</td>\n",
       "      <td>8.649856</td>\n",
       "      <td>6.050852</td>\n",
       "      <td>4.590900</td>\n",
       "      <td>6.709924</td>\n",
       "      <td>8.022049</td>\n",
       "    </tr>\n",
       "    <tr>\n",
       "      <th>4</th>\n",
       "      <td>5</td>\n",
       "      <td>0.949917</td>\n",
       "      <td>3.919228</td>\n",
       "      <td>15.670560</td>\n",
       "      <td>11.126570</td>\n",
       "      <td>6.893430</td>\n",
       "      <td>6.497560</td>\n",
       "      <td>9.204736</td>\n",
       "      <td>8.159551</td>\n",
       "    </tr>\n",
       "  </tbody>\n",
       "</table>\n",
       "</div>"
      ],
      "text/plain": [
       "   t        y1        y2         y3         y4        y5        y6        y7  \\\n",
       "0  1  0.664962  0.473568  11.135602   7.063756  2.729407  2.942622  4.651326   \n",
       "1  2 -0.348460  1.125050   9.872597   5.903379  4.126279  3.589777  7.307345   \n",
       "2  3 -0.693993  2.596259  15.190237   7.711805  6.604484  2.822751  6.932511   \n",
       "3  4  0.168915  4.933867  15.821387   8.649856  6.050852  4.590900  6.709924   \n",
       "4  5  0.949917  3.919228  15.670560  11.126570  6.893430  6.497560  9.204736   \n",
       "\n",
       "         y8  \n",
       "0  4.702956  \n",
       "1  5.012936  \n",
       "2  5.128879  \n",
       "3  8.022049  \n",
       "4  8.159551  "
      ]
     },
     "execution_count": 189,
     "metadata": {},
     "output_type": "execute_result"
    }
   ],
   "source": []
  },
  {
   "cell_type": "code",
   "execution_count": 191,
   "metadata": {},
   "outputs": [
    {
     "data": {
      "text/html": [
       "<div>\n",
       "<style scoped>\n",
       "    .dataframe tbody tr th:only-of-type {\n",
       "        vertical-align: middle;\n",
       "    }\n",
       "\n",
       "    .dataframe tbody tr th {\n",
       "        vertical-align: top;\n",
       "    }\n",
       "\n",
       "    .dataframe thead tr th {\n",
       "        text-align: left;\n",
       "    }\n",
       "\n",
       "    .dataframe thead tr:last-of-type th {\n",
       "        text-align: right;\n",
       "    }\n",
       "</style>\n",
       "<table border=\"1\" class=\"dataframe\">\n",
       "  <thead>\n",
       "    <tr>\n",
       "      <th>ID</th>\n",
       "      <th colspan=\"6\" halign=\"left\">0</th>\n",
       "      <th colspan=\"6\" halign=\"left\">1</th>\n",
       "    </tr>\n",
       "    <tr>\n",
       "      <th>Location</th>\n",
       "      <th colspan=\"3\" halign=\"left\">A</th>\n",
       "      <th colspan=\"3\" halign=\"left\">B</th>\n",
       "      <th colspan=\"3\" halign=\"left\">A</th>\n",
       "      <th colspan=\"3\" halign=\"left\">B</th>\n",
       "    </tr>\n",
       "    <tr>\n",
       "      <th>Direction</th>\n",
       "      <th>tot</th>\n",
       "      <th>x</th>\n",
       "      <th>y</th>\n",
       "      <th>tot</th>\n",
       "      <th>x</th>\n",
       "      <th>y</th>\n",
       "      <th>tot</th>\n",
       "      <th>x</th>\n",
       "      <th>y</th>\n",
       "      <th>tot</th>\n",
       "      <th>x</th>\n",
       "      <th>y</th>\n",
       "    </tr>\n",
       "    <tr>\n",
       "      <th>t</th>\n",
       "      <th></th>\n",
       "      <th></th>\n",
       "      <th></th>\n",
       "      <th></th>\n",
       "      <th></th>\n",
       "      <th></th>\n",
       "      <th></th>\n",
       "      <th></th>\n",
       "      <th></th>\n",
       "      <th></th>\n",
       "      <th></th>\n",
       "      <th></th>\n",
       "    </tr>\n",
       "  </thead>\n",
       "  <tbody>\n",
       "    <tr>\n",
       "      <th>1</th>\n",
       "      <td>0.721511</td>\n",
       "      <td>-0.357243</td>\n",
       "      <td>0.626862</td>\n",
       "      <td>1.922145</td>\n",
       "      <td>-1.448660</td>\n",
       "      <td>1.263340</td>\n",
       "      <td>1.244496</td>\n",
       "      <td>-1.181431</td>\n",
       "      <td>0.391143</td>\n",
       "      <td>1.905284</td>\n",
       "      <td>0.830443</td>\n",
       "      <td>1.714780</td>\n",
       "    </tr>\n",
       "    <tr>\n",
       "      <th>2</th>\n",
       "      <td>2.688443</td>\n",
       "      <td>0.001339</td>\n",
       "      <td>2.688443</td>\n",
       "      <td>2.983181</td>\n",
       "      <td>-1.554643</td>\n",
       "      <td>2.546066</td>\n",
       "      <td>2.700326</td>\n",
       "      <td>1.528178</td>\n",
       "      <td>2.226304</td>\n",
       "      <td>3.137430</td>\n",
       "      <td>-1.789914</td>\n",
       "      <td>2.576756</td>\n",
       "    </tr>\n",
       "    <tr>\n",
       "      <th>3</th>\n",
       "      <td>3.368643</td>\n",
       "      <td>1.102636</td>\n",
       "      <td>3.183072</td>\n",
       "      <td>2.439222</td>\n",
       "      <td>0.368306</td>\n",
       "      <td>2.411255</td>\n",
       "      <td>3.383394</td>\n",
       "      <td>0.216261</td>\n",
       "      <td>3.376475</td>\n",
       "      <td>3.612788</td>\n",
       "      <td>-0.499207</td>\n",
       "      <td>3.578132</td>\n",
       "    </tr>\n",
       "    <tr>\n",
       "      <th>4</th>\n",
       "      <td>3.716892</td>\n",
       "      <td>-1.686344</td>\n",
       "      <td>3.312330</td>\n",
       "      <td>4.957945</td>\n",
       "      <td>-0.961375</td>\n",
       "      <td>4.863844</td>\n",
       "      <td>3.394495</td>\n",
       "      <td>-0.832781</td>\n",
       "      <td>3.290755</td>\n",
       "      <td>5.042138</td>\n",
       "      <td>-0.407241</td>\n",
       "      <td>5.025665</td>\n",
       "    </tr>\n",
       "    <tr>\n",
       "      <th>5</th>\n",
       "      <td>5.635708</td>\n",
       "      <td>-0.045489</td>\n",
       "      <td>5.635525</td>\n",
       "      <td>3.164214</td>\n",
       "      <td>1.694324</td>\n",
       "      <td>2.672361</td>\n",
       "      <td>4.877485</td>\n",
       "      <td>2.472686</td>\n",
       "      <td>4.204246</td>\n",
       "      <td>7.092558</td>\n",
       "      <td>-1.699761</td>\n",
       "      <td>6.885869</td>\n",
       "    </tr>\n",
       "  </tbody>\n",
       "</table>\n",
       "</div>"
      ],
      "text/plain": [
       "ID                0                                                    \\\n",
       "Location          A                             B                       \n",
       "Direction       tot         x         y       tot         x         y   \n",
       "t                                                                       \n",
       "1          0.721511 -0.357243  0.626862  1.922145 -1.448660  1.263340   \n",
       "2          2.688443  0.001339  2.688443  2.983181 -1.554643  2.546066   \n",
       "3          3.368643  1.102636  3.183072  2.439222  0.368306  2.411255   \n",
       "4          3.716892 -1.686344  3.312330  4.957945 -0.961375  4.863844   \n",
       "5          5.635708 -0.045489  5.635525  3.164214  1.694324  2.672361   \n",
       "\n",
       "ID                1                                                    \n",
       "Location          A                             B                      \n",
       "Direction       tot         x         y       tot         x         y  \n",
       "t                                                                      \n",
       "1          1.244496 -1.181431  0.391143  1.905284  0.830443  1.714780  \n",
       "2          2.700326  1.528178  2.226304  3.137430 -1.789914  2.576756  \n",
       "3          3.383394  0.216261  3.376475  3.612788 -0.499207  3.578132  \n",
       "4          3.394495 -0.832781  3.290755  5.042138 -0.407241  5.025665  \n",
       "5          4.877485  2.472686  4.204246  7.092558 -1.699761  6.885869  "
      ]
     },
     "execution_count": 191,
     "metadata": {},
     "output_type": "execute_result"
    }
   ],
   "source": [
    "#df=df.stack(level='Direction')\n",
    "\n",
    "for id,loc,dir in df.columns.values:\n",
    "    df[(id,loc,'tot')]=(df[(id,loc,'x')]**2+df[(id,loc,'y')]**2)**.5\n",
    "df.sort_index(level='ID',axis=1,inplace=True)\n",
    "df.head()"
   ]
  },
  {
   "cell_type": "markdown",
   "metadata": {},
   "source": [
    "# Interactive list"
   ]
  },
  {
   "cell_type": "code",
   "execution_count": 44,
   "metadata": {},
   "outputs": [
    {
     "name": "stdout",
     "output_type": "stream",
     "text": [
      "y6\n"
     ]
    }
   ],
   "source": [
    "qry=runinfo.query('Run ==2')\n",
    "x=qry.index.values\n",
    "tpl=x[1]\n",
    "nm=tpl[1]\n",
    "string='y'+str(nm)\n",
    "print (string)"
   ]
  },
  {
   "cell_type": "code",
   "execution_count": 223,
   "metadata": {},
   "outputs": [
    {
     "data": {
      "image/png": "[encoded data removed]",
      "text/plain": [
       "<Figure size 432x288 with 1 Axes>"
      ]
     },
     "metadata": {},
     "output_type": "display_data"
    }
   ],
   "source": [
    "from ipywidgets import interact\n",
    "import matplotlib.pyplot as plt\n",
    "%matplotlib inline\n",
    "\n",
    "colnames={}\n",
    "prevname=''\n",
    "for id,loc,_ in df.columns.values:\n",
    "    name=str(id)+loc\n",
    "    if(prevname!=name):\n",
    "        nametupl=(id,loc)\n",
    "        colnames[name]=nametupl\n",
    "        prevname=name\n",
    "def plot_func(titles):\n",
    "    plt.scatter(x=df.index.values,y=df.index.values)\n",
    "    plt.title(titles)\n",
    "    plt.show()\n",
    "\n",
    "#interact(f, x=['apples','oranges']);\n",
    "interact(plot_func, titles=colnames);\n"
   ]
  },
  {
   "cell_type": "code",
   "execution_count": 219,
   "metadata": {},
   "outputs": [
    {
     "data": {
      "text/plain": [
       "array([ 1,  2,  3,  4,  5,  6,  7,  8,  9, 10], dtype=int64)"
      ]
     },
     "execution_count": 219,
     "metadata": {},
     "output_type": "execute_result"
    }
   ],
   "source": [
    "df.index.values"
   ]
  },
  {
   "cell_type": "markdown",
   "metadata": {},
   "source": [
    "# Plot data"
   ]
  },
  {
   "cell_type": "code",
   "execution_count": 226,
   "metadata": {},
   "outputs": [
    {
     "data": {
      "image/png": "[encoded data removed]",
      "text/plain": [
       "<Figure size 960x960 with 3 Axes>"
      ]
     },
     "metadata": {},
     "output_type": "display_data"
    }
   ],
   "source": [
    "# libraries and data\n",
    "import matplotlib.pyplot as plt\n",
    "import numpy as np\n",
    "\n",
    "dfy=pd.DataFrame({'t': range(1,11), 'y1': np.random.randn(10), 'y2': np.random.randn(10)+range(1,11), 'y3': np.random.randn(10)+range(11,21), 'y4': np.random.randn(10)+range(6,16), 'y5': np.random.randn(10)+range(4,14)+(0,0,0,0,0,0,0,-3,-8,-6), 'y6': np.random.randn(10)+range(2,12), 'y7': np.random.randn(10)+range(5,15), 'y8': np.random.randn(10)+range(4,14) })\n",
    "\n",
    "#plt.style.use('fivethirtyeight')\n",
    "#plt.style.use('seaborn-darkgrid')\n",
    "my_dpi=96\n",
    "plt.close('all')\n",
    "\n",
    "\n",
    "figprops = dict(figsize=(960/my_dpi, 960/my_dpi), dpi=my_dpi)\n",
    "#fig = plt.figure(**figprops)\n",
    "\n",
    "fig, (ax, bx,totx) = plt.subplots(nrows=3,sharex=True,sharey=True,**figprops)\n",
    "\n",
    "# multiple line plot\n",
    "for column in dfy.drop('t', axis=1):\n",
    "    ax.plot(dfy['t'], dfy[column], marker='', color='grey', linewidth=1, alpha=0.4)\n",
    "    bx.plot(dfy['t'], dfy[column], marker='', color='grey', linewidth=1, alpha=0.4)\n",
    "    totx.plot(dfy['t'], dfy[column], marker='', color='grey', linewidth=1, alpha=0.4)\n",
    "\n",
    "for key, value in colnames.items():\n",
    "    id,loc=value\n",
    "    \n",
    "    ax.plot(df.index.values, df[(id,loc,'x')], marker='', color='grey', linewidth=1, alpha=0.4)\n",
    "    bx.plot(df.index.values, df[(id,loc,'y')], marker='', color='grey', linewidth=1, alpha=0.4)\n",
    "    totx.plot(df.index.values, df[id,loc,'tot'], marker='', color='grey', linewidth=1, alpha=0.4)   \n",
    "\n",
    "\n",
    "\n",
    "# Now re do the interesting curve, but biger with distinct color\n",
    "ax.plot(dfy['t'], dfy['y8'], marker='', color='orange', linewidth=4, alpha=0.7)\n",
    "bx.plot(dfy['t'], dfy['y8'], marker='', color='orange', linewidth=4, alpha=0.7)\n",
    "totx.plot(dfy['t'], dfy['y8'], marker='', color='orange', linewidth=4, alpha=0.7)\n",
    "\n",
    "# And add a special annotation for the group we are interested in\n",
    "\n",
    "bx.text(10.2, dfy.y5.tail(1), 'Mr Orange', horizontalalignment='left', size='small', color='orange')\n",
    "\n",
    "\n",
    "# Let's annotate the plot\n",
    "num=0\n",
    "for i in dfy.values[9][1:]:\n",
    "   num+=1\n",
    "   name=list(dfy)[num]\n",
    "   if name != 'y5':\n",
    "      totx.text(10.2, i, name, horizontalalignment='left', size='small', color='grey')\n",
    "\n",
    "\n",
    "# Configure Axis Limits\n",
    "ax.set_xlim(0,12)  \n",
    "        \n",
    "# Label Axis        \n",
    "ax.set_ylabel(\"X Stress\")   \n",
    "bx.set_ylabel(\"Y Stress\")   \n",
    "totx.set_ylabel(\"Tot Stress\") \n",
    "totx.set_xlabel(\"Time\")\n",
    "plt.show()"
   ]
  },
  {
   "cell_type": "code",
   "execution_count": null,
   "metadata": {},
   "outputs": [],
   "source": []
  },
  {
   "cell_type": "code",
   "execution_count": 65,
   "metadata": {},
   "outputs": [],
   "source": [
    "\n"
   ]
  }
 ],
 "metadata": {
  "kernelspec": {
   "display_name": "Python 3",
   "language": "python",
   "name": "python3"
  },
  "language_info": {
   "codemirror_mode": {
    "name": "ipython",
    "version": 3
   },
   "file_extension": ".py",
   "mimetype": "text/x-python",
   "name": "python",
   "nbconvert_exporter": "python",
   "pygments_lexer": "ipython3",
   "version": "3.5.5"
  },
  "latex_envs": {
   "LaTeX_envs_menu_present": true,
   "autoclose": false,
   "autocomplete": true,
   "bibliofile": "biblio.bib",
   "cite_by": "apalike",
   "current_citInitial": 1,
   "eqLabelWithNumbers": true,
   "eqNumInitial": 1,
   "hotkeys": {
    "equation": "Ctrl-E",
    "itemize": "Ctrl-I"
   },
   "labels_anchors": false,
   "latex_user_defs": false,
   "report_style_numbering": false,
   "user_envs_cfg": false
  },
  "toc": {
   "base_numbering": 1,
   "nav_menu": {},
   "number_sections": true,
   "sideBar": true,
   "skip_h1_title": false,
   "title_cell": "Table of Contents",
   "title_sidebar": "Contents",
   "toc_cell": false,
   "toc_position": {},
   "toc_section_display": true,
   "toc_window_display": false
  },
  "varInspector": {
   "cols": {
    "lenName": 16,
    "lenType": 16,
    "lenVar": 40
   },
   "kernels_config": {
    "python": {
     "delete_cmd_postfix": "",
     "delete_cmd_prefix": "del ",
     "library": "var_list.py",
     "varRefreshCmd": "print(var_dic_list())"
    },
    "r": {
     "delete_cmd_postfix": ") ",
     "delete_cmd_prefix": "rm(",
     "library": "var_list.r",
     "varRefreshCmd": "cat(var_dic_list()) "
    }
   },
   "types_to_exclude": [
    "module",
    "function",
    "builtin_function_or_method",
    "instance",
    "_Feature"
   ],
   "window_display": false
  },
  "widgets": {
   "state": {
    "009007e1886743769a91574f2e22cec0": {
     "views": []
    },
    "01b26480a4bb4f5d946c0044ca1bbc49": {
     "views": []
    },
    "0660f1a1ea72459897d5bff7c1ec33fb": {
     "views": []
    },
    "076e702ea58748d3a8b9a79c2d96881d": {
     "views": []
    },
    "0a8e1024d7664b8fbb5ec4470890cf3b": {
     "views": []
    },
    "0a9accabeb4442968860013822d66d80": {
     "views": []
    },
    "0b714ada160b4890a5fe26f76b1937d4": {
     "views": []
    },
    "0d3298f2657f4c8bb8bf49f04f95449b": {
     "views": []
    },
    "109ec14b83864d08955616eae0572c31": {
     "views": []
    },
    "136b5ba6a4ac455ab743cbde2dbe4209": {
     "views": []
    },
    "1a883693e179411490f8cda125f0ef45": {
     "views": []
    },
    "1dd5bdc35bb64d1b92d7649e9d1f191d": {
     "views": []
    },
    "1de967e929bd40b0be1e5258e0bc706c": {
     "views": []
    },
    "1ee2b953636040a7a35cd744e1c6c990": {
     "views": []
    },
    "1f41a9ceb5c8494daee17fd33d369a3b": {
     "views": []
    },
    "2036f6ee7e4d4e189dfad3e82593a6d6": {
     "views": []
    },
    "21010730f97b40bb856f08eccee1f5ad": {
     "views": []
    },
    "221b6a71fe194ffeac640b9a0b487b86": {
     "views": []
    },
    "2300751dc01e4e87a778cc67ddf21ccc": {
     "views": []
    },
    "26a188cb8375452b963cf67935b3b203": {
     "views": []
    },
    "275da761733e4df0a2f900660bb4d106": {
     "views": []
    },
    "2bf154e214a640f2a40e23e61814454e": {
     "views": []
    },
    "2cbe4c1d6eb0456bb6b8433ad1b326c0": {
     "views": []
    },
    "30aae9ef3b1a4503bed8d65b17ac55b1": {
     "views": []
    },
    "31cf388db2ef47e6a73196bc2f71c844": {
     "views": []
    },
    "31f106b621db457e88ceef231a3d2735": {
     "views": []
    },
    "329a78d999f84b8888822a85e6d80a23": {
     "views": []
    },
    "342dc4e7714c4da9a744ae99c40d9d01": {
     "views": []
    },
    "36b71f0d03b74d17928b9a858c19dcbb": {
     "views": []
    },
    "3823f451d2524eba880294e23d665f06": {
     "views": []
    },
    "38ddedd76c5e4f16a323b75049d60d88": {
     "views": []
    },
    "3f6b7e9ce97a495d9f7fbe2e5814c9ae": {
     "views": []
    },
    "40eb2b9fcbd545b98d75eaeef12a80c2": {
     "views": []
    },
    "422a6da5d587420982c03c893fdd4733": {
     "views": []
    },
    "432185c90f204bdf8978752ab9d6c63b": {
     "views": []
    },
    "465c04241eb14b15877df1a219c7cda2": {
     "views": []
    },
    "49c73779d52944dea9292ab42ff05887": {
     "views": []
    },
    "4bedfce49e9d4410b115f6178c1e170a": {
     "views": []
    },
    "4d4df850fab440afb0bb77de66de2d1b": {
     "views": []
    },
    "50d07acf8aab4d1099a581fc07089d00": {
     "views": []
    },
    "515986d0c5144a4d9ad1a6f5d288d119": {
     "views": []
    },
    "55ca8925c60140958f14e0027f86f4ad": {
     "views": []
    },
    "5822c6eaf38d40eda7ecb58aaf57c9d0": {
     "views": [
      {
       "cell_index": 12
      }
     ]
    },
    "5878760f64a14b68a517d6a45da9c2db": {
     "views": []
    },
    "5a89499b901c4d76befbe2f4bbc2edd5": {
     "views": []
    },
    "60e171b7814041e8ae5d2e0feb47853c": {
     "views": []
    },
    "650b52ed404445db88ab4d1cd269017e": {
     "views": []
    },
    "6a268215278e4f4d80aaef3746778cf7": {
     "views": []
    },
    "6a7669df658a499d847d578255ef2e51": {
     "views": []
    },
    "725f64d425664a7dafa63629928713c6": {
     "views": []
    },
    "7dc1ce7e0aff4740a44de5677d8e1db7": {
     "views": []
    },
    "815c4c7d8209496fb0810e1c8767e4e1": {
     "views": []
    },
    "8d9a974377b343fbb0eafcf70419590b": {
     "views": []
    },
    "8fcecd14b93e4e6288861bd23d198a71": {
     "views": []
    },
    "924bf43cb68246f196837bda385950aa": {
     "views": []
    },
    "939ecc0a922941fbb493addd8847f7ed": {
     "views": []
    },
    "953e6eb7bc474da295e96115830030aa": {
     "views": []
    },
    "9a2a9966ecc44dfe92c294ad1c430079": {
     "views": []
    },
    "9c312d3340df47458c63253e1be20085": {
     "views": []
    },
    "9e4c9cda6ae44c9eba7dec874fbe0202": {
     "views": []
    },
    "9ea8a28183f54a88a7453306620bb408": {
     "views": []
    },
    "aabd53e41feb4f6495db1cdba27c3df1": {
     "views": []
    },
    "ac46c209513f4ce6b0d04552aee6776d": {
     "views": []
    },
    "b36d6b7779a344718d00db976bef5ae1": {
     "views": []
    },
    "b3b7cef65de8494ca9d682c484004fbb": {
     "views": []
    },
    "b4e872eb8c9b4d88a3a46bb41605eb04": {
     "views": []
    },
    "b648946a05a44c6288e75666206a2097": {
     "views": []
    },
    "b8a7a52b1e244905bfbc2c220b1db3c7": {
     "views": []
    },
    "b8f78b63df7f48fba3ce0e0f71d109df": {
     "views": []
    },
    "bc3722655fc34696a7aa66f0d3b38f05": {
     "views": []
    },
    "bf1ede4a84834d068309a547c471a38f": {
     "views": []
    },
    "bfea70680238472e88e40428861654bb": {
     "views": []
    },
    "c2f801fb8d0c477fb7f4400220d98207": {
     "views": []
    },
    "c62b93738aec41f983586f3fedf117f7": {
     "views": []
    },
    "cc59237aa73442e38e5cd92827d0297f": {
     "views": []
    },
    "ccf2cd68645a42b6a2e7c92fe9ca00fe": {
     "views": []
    },
    "ccf859b8b56a454db8ebb2f173e17817": {
     "views": []
    },
    "ce9552cb4aa344f7a828c54cb46b2a27": {
     "views": []
    },
    "d197c070c3214e94a95dcfb54d1a53d6": {
     "views": []
    },
    "d2b0c253ecb04bacbafd2d4cdd995d5d": {
     "views": []
    },
    "d4e5bbd84e3e4359805abf92dd147e8a": {
     "views": []
    },
    "d6af07ea40ee484eb16ea4dd9ce621d6": {
     "views": []
    },
    "da0bde52fbc74f78ac79e7720d51e2c5": {
     "views": []
    },
    "db1d50c0193b4b55aee6a0b5460cdca9": {
     "views": []
    },
    "dd160d9d39cd422cb032a117ea36a740": {
     "views": []
    },
    "de75427e054b4e548ec9baab26860543": {
     "views": []
    },
    "df2542df5c3142a0baf6edc8c9dd7847": {
     "views": []
    },
    "e0bbe7d319524b1bb09e7fdcafe2920c": {
     "views": []
    },
    "e7685290ab9b43669ca43c7646b1e414": {
     "views": []
    },
    "eae413c0f410401f902de98917fc8cc0": {
     "views": []
    },
    "fbdcb49c60ff4089816c40f189dc4f41": {
     "views": []
    },
    "fc0e2ccef2c94011ae73fa9ab00fe002": {
     "views": []
    },
    "fe8057da2b144a59bf2a0fe0f8f36d6c": {
     "views": []
    },
    "ff3d281301c249ddb480148d66316ff4": {
     "views": []
    }
   },
   "version": "1.1.2"
  }
 },
 "nbformat": 4,
 "nbformat_minor": 2
}
